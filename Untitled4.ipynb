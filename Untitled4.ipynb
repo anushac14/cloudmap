{
 "cells": [
  {
   "cell_type": "code",
   "execution_count": 1,
   "id": "4f28961c",
   "metadata": {},
   "outputs": [
    {
     "data": {
      "text/html": [
       "<p>To authorize access needed by Earth Engine, open the following\n",
       "        URL in a web browser and follow the instructions:</p>\n",
       "        <p><a href=https://code.earthengine.google.com/client-auth?scopes=https%3A//www.googleapis.com/auth/earthengine%20https%3A//www.googleapis.com/auth/devstorage.full_control&request_id=CmihHlxIsTyvbKi9zJwrYNsxKZWYvNDMk1Vnx4Za7TU&tc=ZZUSGG_wV30QGSMGH_DsSoqMyMMxnDZSiDx5iq1XYJw&cc=e4_VmApFP-7deonBt-ofWb7sRgK87CbhQnMDPYm82Po>https://code.earthengine.google.com/client-auth?scopes=https%3A//www.googleapis.com/auth/earthengine%20https%3A//www.googleapis.com/auth/devstorage.full_control&request_id=CmihHlxIsTyvbKi9zJwrYNsxKZWYvNDMk1Vnx4Za7TU&tc=ZZUSGG_wV30QGSMGH_DsSoqMyMMxnDZSiDx5iq1XYJw&cc=e4_VmApFP-7deonBt-ofWb7sRgK87CbhQnMDPYm82Po</a></p>\n",
       "        <p>The authorization workflow will generate a code, which you should paste in the box below.</p>\n",
       "        "
      ],
      "text/plain": [
       "<IPython.core.display.HTML object>"
      ]
     },
     "metadata": {},
     "output_type": "display_data"
    },
    {
     "name": "stdout",
     "output_type": "stream",
     "text": [
      "Enter verification code: 4/1AfgeXvuWKRNsYGPq5LcPkJFBkw40Iwl2RdoZZxE12AbjEo5icaVeIpIdHfc\n",
      "\n",
      "Successfully saved authorization token.\n"
     ]
    }
   ],
   "source": [
    "import ee\n",
    "\n",
    "ee.Authenticate()"
   ]
  },
  {
   "cell_type": "code",
   "execution_count": 3,
   "id": "2f7a5bd5",
   "metadata": {},
   "outputs": [
    {
     "data": {
      "application/vnd.jupyter.widget-view+json": {
       "model_id": "7a9fd5926b70496c8e7df23fa13e2040",
       "version_major": 2,
       "version_minor": 0
      },
      "text/plain": [
       "Map(center=[-10.47, -58.14], controls=(WidgetControl(options=['position', 'transparent_bg'], widget=HBox(child…"
      ]
     },
     "metadata": {},
     "output_type": "display_data"
    }
   ],
   "source": [
    "import geemap\n",
    "import ee\n",
    "import os\n",
    "import ipyleaflet\n",
    "import ipywidgets as widgets\n",
    "\n",
    "\n",
    "Map = geemap.Map()\n",
    "\n",
    "\n",
    "collection = ee.ImageCollection('COPERNICUS/S5P/NRTI/L3_CLOUD').select('cloud_fraction').filterDate('2022-10-11T04:00', '2022-12-11T06:00');\n",
    "\n",
    "band_viz = {\n",
    "  'min': 0,\n",
    "  'max': 0.95,\n",
    "    'opacity' : 0.5,\n",
    "    \n",
    "  'palette': ['black', 'blue', 'purple', 'cyan', 'green', 'yellow', 'red']\n",
    "};\n",
    "\n",
    "Map.addLayer(collection.mean(), band_viz, 'S5P Cloud');\n",
    "Map.setCenter(-58.14, -10.47, 2);\n",
    "colors = band_viz['palette']\n",
    "vmin = band_viz['min']\n",
    "vmax = band_viz['max']\n",
    "\n",
    "Map.add_colorbar_branca(colors=colors, vmin=vmin, vmax=vmax, layer_name=\"SRTM DEM\")\n",
    "\n",
    "Map\n",
    "\n",
    "\n",
    "#download_dir = os.path.join(os.path.expanduser('~'), 'Downloads')\n",
    "#if not os.path.exists(download_dir):\n",
    "    #os.makedirs(download_dir)\n",
    "#html_file = os.path.join(download_dir, 'my_map.html')\n",
    "#Map.to_html(filename=html_file, title='My Map', width='100%', height='880px')"
   ]
  },
  {
   "cell_type": "code",
   "execution_count": null,
   "id": "aedb51ee",
   "metadata": {},
   "outputs": [],
   "source": []
  }
 ],
 "metadata": {
  "kernelspec": {
   "display_name": "Python 3 (ipykernel)",
   "language": "python",
   "name": "python3"
  },
  "language_info": {
   "codemirror_mode": {
    "name": "ipython",
    "version": 3
   },
   "file_extension": ".py",
   "mimetype": "text/x-python",
   "name": "python",
   "nbconvert_exporter": "python",
   "pygments_lexer": "ipython3",
   "version": "3.10.6"
  }
 },
 "nbformat": 4,
 "nbformat_minor": 5
}
