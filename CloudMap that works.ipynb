{
 "cells": [
  {
   "cell_type": "code",
   "execution_count": 1,
   "id": "d6c68a88",
   "metadata": {},
   "outputs": [
    {
     "data": {
      "text/html": [
       "<p>To authorize access needed by Earth Engine, open the following\n",
       "        URL in a web browser and follow the instructions:</p>\n",
       "        <p><a href=https://code.earthengine.google.com/client-auth?scopes=https%3A//www.googleapis.com/auth/earthengine%20https%3A//www.googleapis.com/auth/devstorage.full_control&request_id=017NNDA3KE59Y8OOQitGAaHW2XFw94buorimJvcGeqI&tc=KKXR1ME7ywQvI25fwWkXqmdLYNU3_i_k__KzPVPHYwc&cc=zv32vZxfMM80Ph2TbhKS0ICOIcAEryaT49PB_Y3KfHs>https://code.earthengine.google.com/client-auth?scopes=https%3A//www.googleapis.com/auth/earthengine%20https%3A//www.googleapis.com/auth/devstorage.full_control&request_id=017NNDA3KE59Y8OOQitGAaHW2XFw94buorimJvcGeqI&tc=KKXR1ME7ywQvI25fwWkXqmdLYNU3_i_k__KzPVPHYwc&cc=zv32vZxfMM80Ph2TbhKS0ICOIcAEryaT49PB_Y3KfHs</a></p>\n",
       "        <p>The authorization workflow will generate a code, which you should paste in the box below.</p>\n",
       "        "
      ],
      "text/plain": [
       "<IPython.core.display.HTML object>"
      ]
     },
     "metadata": {},
     "output_type": "display_data"
    },
    {
     "name": "stdout",
     "output_type": "stream",
     "text": [
      "Enter verification code: 4/1AWgavdfwH-WWOa3z_ZIK0wPALraFegSOj5cnKBTcnaSJkmoXye4-SHJxbDY\n",
      "\n",
      "Successfully saved authorization token.\n"
     ]
    }
   ],
   "source": [
    "import ee\n",
    "\n",
    "ee.Authenticate()"
   ]
  },
  {
   "cell_type": "code",
   "execution_count": 2,
   "id": "56ca1b4b",
   "metadata": {},
   "outputs": [
    {
     "data": {
      "application/vnd.jupyter.widget-view+json": {
       "model_id": "ef3799b2f97f4254bf91a75eb686e369",
       "version_major": 2,
       "version_minor": 0
      },
      "text/plain": [
       "Map(center=[-10.47, -58.14], controls=(WidgetControl(options=['position', 'transparent_bg'], widget=HBox(child…"
      ]
     },
     "metadata": {},
     "output_type": "display_data"
    }
   ],
   "source": [
    "import geemap\n",
    "import ee\n",
    "import os\n",
    "import ipyleaflet\n",
    "import ipywidgets as widgets\n",
    "\n",
    "\n",
    "Map = geemap.Map()\n",
    "\n",
    "\n",
    "collection = ee.ImageCollection('COPERNICUS/S5P/NRTI/L3_CLOUD').select('cloud_fraction').filterDate('2023-1-3', '2023-1-4');\n",
    "\n",
    "band_viz = {\n",
    "  'min': 0,\n",
    "  'max': 0.95,\n",
    "    'opacity' : 0.5,\n",
    "    \n",
    "  'palette': ['black', 'blue', 'purple', 'cyan', 'green', 'yellow', 'red']\n",
    "};\n",
    "\n",
    "Map.addLayer(collection.mean(), band_viz, 'S5P Cloud');\n",
    "Map.setCenter(-58.14, -10.47, 2);\n",
    "colors = band_viz['palette']\n",
    "vmin = band_viz['min']\n",
    "vmax = band_viz['max']\n",
    "\n",
    "Map.add_colorbar_branca(colors=colors, vmin=vmin, vmax=vmax, layer_name=\"SRTM DEM\")\n",
    "\n",
    "Map"
   ]
  },
  {
   "cell_type": "code",
   "execution_count": null,
   "id": "f6ca0684",
   "metadata": {},
   "outputs": [],
   "source": []
  }
 ],
 "metadata": {
  "kernelspec": {
   "display_name": "Python 3 (ipykernel)",
   "language": "python",
   "name": "python3"
  },
  "language_info": {
   "codemirror_mode": {
    "name": "ipython",
    "version": 3
   },
   "file_extension": ".py",
   "mimetype": "text/x-python",
   "name": "python",
   "nbconvert_exporter": "python",
   "pygments_lexer": "ipython3",
   "version": "3.10.6"
  }
 },
 "nbformat": 4,
 "nbformat_minor": 5
}
